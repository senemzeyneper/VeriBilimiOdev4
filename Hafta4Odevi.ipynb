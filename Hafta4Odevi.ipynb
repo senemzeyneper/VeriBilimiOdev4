{
 "cells": [
  {
   "cell_type": "markdown",
   "id": "787f9a7f-7494-4282-bce1-62b3f92fbb55",
   "metadata": {},
   "source": [
    "## 1.Numpy Bölümü"
   ]
  },
  {
   "cell_type": "code",
   "execution_count": 19,
   "id": "409422d8-eaf8-48fe-ad9f-f683daca209f",
   "metadata": {},
   "outputs": [],
   "source": [
    "import numpy as np"
   ]
  },
  {
   "cell_type": "markdown",
   "id": "2f7dfc25-5390-4eaf-80c6-e71ed45702f4",
   "metadata": {},
   "source": [
    "1.1.Numpy ile Matris İşlemleri:"
   ]
  },
  {
   "cell_type": "code",
   "execution_count": 22,
   "id": "ee23dd3e-7de7-46b5-bc0e-8c7f7da0b3fa",
   "metadata": {},
   "outputs": [],
   "source": [
    "matris =np.random.randint(0,101,size =(5,5))"
   ]
  },
  {
   "cell_type": "code",
   "execution_count": 24,
   "id": "5b302a08-37fe-4371-94cd-c420f54153f0",
   "metadata": {},
   "outputs": [
    {
     "data": {
      "text/plain": [
       "array([[12, 18, 60, 22, 25],\n",
       "       [94,  9, 68, 94, 78],\n",
       "       [42, 43, 78, 81, 96],\n",
       "       [78, 10, 92, 60, 91],\n",
       "       [34, 46, 39, 46, 71]])"
      ]
     },
     "execution_count": 24,
     "metadata": {},
     "output_type": "execute_result"
    }
   ],
   "source": [
    "matris"
   ]
  },
  {
   "cell_type": "code",
   "execution_count": 26,
   "id": "317ba995-3f08-4a4b-a5a1-80c0a723e58e",
   "metadata": {},
   "outputs": [
    {
     "name": "stdout",
     "output_type": "stream",
     "text": [
      "Matrisin ortalaması : 55.48\n",
      "Matrisin standart sapması : 28.73342304703705\n",
      "Matrisin varyansı : 825.6095999999999\n",
      "Matrisin en büyük değeri : 96\n",
      "Matrisin en küçük değeri : 9\n",
      "Matrisin köşegenlerinin toplamı : 230\n"
     ]
    }
   ],
   "source": [
    "\n",
    "ort = np.mean(matris)\n",
    "stsap = np.std(matris)\n",
    "vry = np.var(matris)\n",
    "enBuyuk = np.max(matris)\n",
    "enKucuk = np.min(matris)\n",
    "gen = np.trace(matris)\n",
    "print(\"Matrisin ortalaması :\",ort)\n",
    "print(\"Matrisin standart sapması :\",stsap)\n",
    "print(\"Matrisin varyansı :\",vry)\n",
    "print(\"Matrisin en büyük değeri :\",enBuyuk)\n",
    "print(\"Matrisin en küçük değeri :\",enKucuk)\n",
    "print(\"Matrisin köşegenlerinin toplamı :\",gen)"
   ]
  },
  {
   "cell_type": "markdown",
   "id": "06496654-467c-4303-b3fe-3600dcae8d2d",
   "metadata": {},
   "source": [
    "2.2. Numpy ile Veri Simülasyonu"
   ]
  },
  {
   "cell_type": "code",
   "execution_count": 92,
   "id": "1df10852-f3e4-4d8e-8d9a-5a84f49a4bf8",
   "metadata": {},
   "outputs": [
    {
     "name": "stdout",
     "output_type": "stream",
     "text": [
      "İlk ortalama : 49.627 İlk standart sapma : 28.946292871454197\n",
      "Son ortalama : 49.273185224145024 Son standart sapma : 0.0\n"
     ]
    }
   ],
   "source": [
    "import numpy as np\n",
    "import random\n",
    "sınavPuanlar = np.random.randint(0,100,1000)\n",
    "sınavOrt = np.mean(sınavPuanlar)\n",
    "sınavSs = np.std(sınavPuanlar)\n",
    "print(\"İlk ortalama :\",sınavOrt, \"İlk standart sapma :\" ,sınavSs,)\n",
    "simule = np.random.normal(sınavOrt,sınavSs,1000)\n",
    "simule = np.clip(simule, 0, 100)\n",
    "sonOrt = np.mean(simule)\n",
    "sonSs = np.std(sonOrt)\n",
    "print(\"Son ortalama :\",sonOrt,\"Son standart sapma :\",sonSs)"
   ]
  },
  {
   "cell_type": "code",
   "execution_count": 96,
   "id": "86f5b2c2-e505-487e-8426-ad853a246058",
   "metadata": {},
   "outputs": [
    {
     "name": "stdout",
     "output_type": "stream",
     "text": [
      "50’den düşük alan öğrenci sayısı: 93\n"
     ]
    }
   ],
   "source": [
    "dusukNotSayısı = np.sum(puanlar < 50)\n",
    "print(\"50’den düşük alan öğrenci sayısı:\",dusukNotSayısı)\n",
    "    "
   ]
  },
  {
   "cell_type": "markdown",
   "id": "3052cec3-28bb-4383-a9a0-d0f0806671e2",
   "metadata": {},
   "source": [
    "## 2.Pandas Bölümü"
   ]
  },
  {
   "cell_type": "markdown",
   "id": "130eab10-2296-445d-b2db-8b5b308331be",
   "metadata": {},
   "source": [
    "3.1."
   ]
  },
  {
   "cell_type": "code",
   "execution_count": 172,
   "id": "9ba94da7-b6e8-42f3-8c45-fabc496fc848",
   "metadata": {},
   "outputs": [],
   "source": [
    "import pandas as pd\n",
    "veri = {\n",
    "    \"Öğrenci\": [\"Zeynep\",\"Elif\",\"Bahar\",\"Yavuz\",\"Selma\",\"Taner\",\"Deniz\",\"Kerem\",\"Sevgi\"],\n",
    "    \"Yaş\": [22, 21, 19, 22, 20,20,22,19,21],\n",
    "    \"Bölüm\": [\"Bilgisayar\",\"Kimya\",\"Fizik\",\"Kimya\",\"Fizik\",\"Bilgisayar\",\"Kimya\",\"Bilgisyar\",\"Fizik\"],\n",
    "    \"Matematik\": [90,80,95,75,70,85,65,80,75],\n",
    "    \"Fizik\": [75,60,75,60,85,80,90,85,70],\n",
    "    \"Kimya\": [65,65,80,70,90,95,80,85,60]\n",
    "}\n"
   ]
  },
  {
   "cell_type": "code",
   "execution_count": 174,
   "id": "4abb6df2-ab77-4184-baf0-eafc38fcfdf3",
   "metadata": {},
   "outputs": [],
   "source": [
    "dataframe = pd.DataFrame(veri)"
   ]
  },
  {
   "cell_type": "markdown",
   "id": "dbef3056-e506-4f38-a778-648bcb2b9515",
   "metadata": {},
   "source": [
    "4.2."
   ]
  },
  {
   "cell_type": "code",
   "execution_count": 177,
   "id": "5bf7f224-52cb-403d-8635-2dff8e2656dd",
   "metadata": {},
   "outputs": [
    {
     "name": "stdout",
     "output_type": "stream",
     "text": [
      "Matematik notu ortalaması : 79.44444444444444\n",
      "Fizik notu ortalaması : 75.55555555555556\n",
      "Kimya notu ortalaması : 76.66666666666667\n"
     ]
    }
   ],
   "source": [
    "matOrt = dataframe[\"Matematik\"].mean()\n",
    "fizOrt = dataframe[\"Fizik\"].mean()\n",
    "kimOrt = dataframe[\"Kimya\"].mean()\n",
    "print(\"Matematik notu ortalaması :\",matOrt)\n",
    "print(\"Fizik notu ortalaması :\",fizOrt)\n",
    "print(\"Kimya notu ortalaması :\",kimOrt)"
   ]
  },
  {
   "cell_type": "markdown",
   "id": "cdf40a03-d1c1-45ac-87cf-b555eeb73541",
   "metadata": {},
   "source": [
    "5.3."
   ]
  },
  {
   "cell_type": "code",
   "execution_count": 180,
   "id": "b0124122-5173-4fd1-ba3b-a1290db030e2",
   "metadata": {},
   "outputs": [
    {
     "name": "stdout",
     "output_type": "stream",
     "text": [
      "En yüksek matemetik notu alan öğrenci : Bahar\n"
     ]
    }
   ],
   "source": [
    "maxid = dataframe[\"Matematik\"].idxmax()\n",
    "enYuksek = dataframe.loc[maxid]\n",
    "print(\"En yüksek matemetik notu alan öğrenci :\",enYuksek[\"Öğrenci\"])"
   ]
  },
  {
   "cell_type": "markdown",
   "id": "a0fb72f6-8662-4251-8903-a6e906b4ea6c",
   "metadata": {},
   "source": [
    "6.4."
   ]
  },
  {
   "cell_type": "code",
   "execution_count": 183,
   "id": "6db205be-cea0-4491-83fd-cf22924c456e",
   "metadata": {},
   "outputs": [
    {
     "data": {
      "text/html": [
       "<div>\n",
       "<style scoped>\n",
       "    .dataframe tbody tr th:only-of-type {\n",
       "        vertical-align: middle;\n",
       "    }\n",
       "\n",
       "    .dataframe tbody tr th {\n",
       "        vertical-align: top;\n",
       "    }\n",
       "\n",
       "    .dataframe thead th {\n",
       "        text-align: right;\n",
       "    }\n",
       "</style>\n",
       "<table border=\"1\" class=\"dataframe\">\n",
       "  <thead>\n",
       "    <tr style=\"text-align: right;\">\n",
       "      <th></th>\n",
       "      <th>Öğrenci</th>\n",
       "      <th>Yaş</th>\n",
       "      <th>Bölüm</th>\n",
       "      <th>Matematik</th>\n",
       "      <th>Fizik</th>\n",
       "      <th>Kimya</th>\n",
       "      <th>Ortalama</th>\n",
       "    </tr>\n",
       "  </thead>\n",
       "  <tbody>\n",
       "    <tr>\n",
       "      <th>0</th>\n",
       "      <td>Zeynep</td>\n",
       "      <td>22</td>\n",
       "      <td>Bilgisayar</td>\n",
       "      <td>90</td>\n",
       "      <td>75</td>\n",
       "      <td>65</td>\n",
       "      <td>76.666667</td>\n",
       "    </tr>\n",
       "    <tr>\n",
       "      <th>1</th>\n",
       "      <td>Elif</td>\n",
       "      <td>21</td>\n",
       "      <td>Kimya</td>\n",
       "      <td>80</td>\n",
       "      <td>60</td>\n",
       "      <td>65</td>\n",
       "      <td>68.333333</td>\n",
       "    </tr>\n",
       "    <tr>\n",
       "      <th>2</th>\n",
       "      <td>Bahar</td>\n",
       "      <td>19</td>\n",
       "      <td>Fizik</td>\n",
       "      <td>95</td>\n",
       "      <td>75</td>\n",
       "      <td>80</td>\n",
       "      <td>83.333333</td>\n",
       "    </tr>\n",
       "    <tr>\n",
       "      <th>3</th>\n",
       "      <td>Yavuz</td>\n",
       "      <td>22</td>\n",
       "      <td>Kimya</td>\n",
       "      <td>75</td>\n",
       "      <td>60</td>\n",
       "      <td>70</td>\n",
       "      <td>68.333333</td>\n",
       "    </tr>\n",
       "    <tr>\n",
       "      <th>4</th>\n",
       "      <td>Selma</td>\n",
       "      <td>20</td>\n",
       "      <td>Fizik</td>\n",
       "      <td>70</td>\n",
       "      <td>85</td>\n",
       "      <td>90</td>\n",
       "      <td>81.666667</td>\n",
       "    </tr>\n",
       "    <tr>\n",
       "      <th>5</th>\n",
       "      <td>Taner</td>\n",
       "      <td>20</td>\n",
       "      <td>Bilgisayar</td>\n",
       "      <td>85</td>\n",
       "      <td>80</td>\n",
       "      <td>95</td>\n",
       "      <td>86.666667</td>\n",
       "    </tr>\n",
       "    <tr>\n",
       "      <th>6</th>\n",
       "      <td>Deniz</td>\n",
       "      <td>22</td>\n",
       "      <td>Kimya</td>\n",
       "      <td>65</td>\n",
       "      <td>90</td>\n",
       "      <td>80</td>\n",
       "      <td>78.333333</td>\n",
       "    </tr>\n",
       "    <tr>\n",
       "      <th>7</th>\n",
       "      <td>Kerem</td>\n",
       "      <td>19</td>\n",
       "      <td>Bilgisyar</td>\n",
       "      <td>80</td>\n",
       "      <td>85</td>\n",
       "      <td>85</td>\n",
       "      <td>83.333333</td>\n",
       "    </tr>\n",
       "    <tr>\n",
       "      <th>8</th>\n",
       "      <td>Sevgi</td>\n",
       "      <td>21</td>\n",
       "      <td>Fizik</td>\n",
       "      <td>75</td>\n",
       "      <td>70</td>\n",
       "      <td>60</td>\n",
       "      <td>68.333333</td>\n",
       "    </tr>\n",
       "  </tbody>\n",
       "</table>\n",
       "</div>"
      ],
      "text/plain": [
       "  Öğrenci  Yaş       Bölüm  Matematik  Fizik  Kimya   Ortalama\n",
       "0  Zeynep   22  Bilgisayar         90     75     65  76.666667\n",
       "1    Elif   21       Kimya         80     60     65  68.333333\n",
       "2   Bahar   19       Fizik         95     75     80  83.333333\n",
       "3   Yavuz   22       Kimya         75     60     70  68.333333\n",
       "4   Selma   20       Fizik         70     85     90  81.666667\n",
       "5   Taner   20  Bilgisayar         85     80     95  86.666667\n",
       "6   Deniz   22       Kimya         65     90     80  78.333333\n",
       "7   Kerem   19   Bilgisyar         80     85     85  83.333333\n",
       "8   Sevgi   21       Fizik         75     70     60  68.333333"
      ]
     },
     "execution_count": 183,
     "metadata": {},
     "output_type": "execute_result"
    }
   ],
   "source": [
    "ort = ((dataframe[\"Matematik\"] + dataframe[\"Fizik\"] + dataframe[\"Kimya\"])/3)\n",
    "dataframe[\"Ortalama\"] = ort\n",
    "dataframe"
   ]
  },
  {
   "cell_type": "markdown",
   "id": "a0aeb68b-ecb8-46cb-9c48-02ccffc127dc",
   "metadata": {},
   "source": [
    "7.5."
   ]
  },
  {
   "cell_type": "code",
   "execution_count": 186,
   "id": "7cd57cd8-5b06-409e-8af4-68269ca819a1",
   "metadata": {},
   "outputs": [
    {
     "data": {
      "text/plain": [
       "Bölüm\n",
       "Bilgisayar    81.666667\n",
       "Bilgisyar     83.333333\n",
       "Fizik         77.777778\n",
       "Kimya         71.666667\n",
       "Name: Ortalama, dtype: float64"
      ]
     },
     "execution_count": 186,
     "metadata": {},
     "output_type": "execute_result"
    }
   ],
   "source": [
    "bolumOrt = dataframe.groupby(\"Bölüm\")[\"Ortalama\"].mean()\n",
    "bolumOrt"
   ]
  },
  {
   "cell_type": "markdown",
   "id": "48848a0d-9c6b-40d5-ba59-9cb751640937",
   "metadata": {},
   "source": [
    "8.6."
   ]
  },
  {
   "cell_type": "code",
   "execution_count": 189,
   "id": "b9e879a0-d166-45df-95c4-e8a9ca218012",
   "metadata": {},
   "outputs": [
    {
     "data": {
      "text/html": [
       "<div>\n",
       "<style scoped>\n",
       "    .dataframe tbody tr th:only-of-type {\n",
       "        vertical-align: middle;\n",
       "    }\n",
       "\n",
       "    .dataframe tbody tr th {\n",
       "        vertical-align: top;\n",
       "    }\n",
       "\n",
       "    .dataframe thead th {\n",
       "        text-align: right;\n",
       "    }\n",
       "</style>\n",
       "<table border=\"1\" class=\"dataframe\">\n",
       "  <thead>\n",
       "    <tr style=\"text-align: right;\">\n",
       "      <th></th>\n",
       "      <th>Öğrenci</th>\n",
       "      <th>Yaş</th>\n",
       "      <th>Bölüm</th>\n",
       "      <th>Matematik</th>\n",
       "      <th>Fizik</th>\n",
       "      <th>Kimya</th>\n",
       "      <th>Ortalama</th>\n",
       "    </tr>\n",
       "  </thead>\n",
       "  <tbody>\n",
       "    <tr>\n",
       "      <th>0</th>\n",
       "      <td>Zeynep</td>\n",
       "      <td>22</td>\n",
       "      <td>Bilgisayar</td>\n",
       "      <td>90</td>\n",
       "      <td>75</td>\n",
       "      <td>65</td>\n",
       "      <td>76.666667</td>\n",
       "    </tr>\n",
       "    <tr>\n",
       "      <th>2</th>\n",
       "      <td>Bahar</td>\n",
       "      <td>19</td>\n",
       "      <td>Fizik</td>\n",
       "      <td>95</td>\n",
       "      <td>75</td>\n",
       "      <td>80</td>\n",
       "      <td>83.333333</td>\n",
       "    </tr>\n",
       "    <tr>\n",
       "      <th>4</th>\n",
       "      <td>Selma</td>\n",
       "      <td>20</td>\n",
       "      <td>Fizik</td>\n",
       "      <td>70</td>\n",
       "      <td>85</td>\n",
       "      <td>90</td>\n",
       "      <td>81.666667</td>\n",
       "    </tr>\n",
       "    <tr>\n",
       "      <th>5</th>\n",
       "      <td>Taner</td>\n",
       "      <td>20</td>\n",
       "      <td>Bilgisayar</td>\n",
       "      <td>85</td>\n",
       "      <td>80</td>\n",
       "      <td>95</td>\n",
       "      <td>86.666667</td>\n",
       "    </tr>\n",
       "    <tr>\n",
       "      <th>6</th>\n",
       "      <td>Deniz</td>\n",
       "      <td>22</td>\n",
       "      <td>Kimya</td>\n",
       "      <td>65</td>\n",
       "      <td>90</td>\n",
       "      <td>80</td>\n",
       "      <td>78.333333</td>\n",
       "    </tr>\n",
       "    <tr>\n",
       "      <th>7</th>\n",
       "      <td>Kerem</td>\n",
       "      <td>19</td>\n",
       "      <td>Bilgisyar</td>\n",
       "      <td>80</td>\n",
       "      <td>85</td>\n",
       "      <td>85</td>\n",
       "      <td>83.333333</td>\n",
       "    </tr>\n",
       "  </tbody>\n",
       "</table>\n",
       "</div>"
      ],
      "text/plain": [
       "  Öğrenci  Yaş       Bölüm  Matematik  Fizik  Kimya   Ortalama\n",
       "0  Zeynep   22  Bilgisayar         90     75     65  76.666667\n",
       "2   Bahar   19       Fizik         95     75     80  83.333333\n",
       "4   Selma   20       Fizik         70     85     90  81.666667\n",
       "5   Taner   20  Bilgisayar         85     80     95  86.666667\n",
       "6   Deniz   22       Kimya         65     90     80  78.333333\n",
       "7   Kerem   19   Bilgisyar         80     85     85  83.333333"
      ]
     },
     "execution_count": 189,
     "metadata": {},
     "output_type": "execute_result"
    }
   ],
   "source": [
    "iyi = dataframe[dataframe[\"Ortalama\"]>70]\n",
    "iyi\n"
   ]
  },
  {
   "cell_type": "markdown",
   "id": "0af6e8f9-408b-4112-b531-82bcd8fb535f",
   "metadata": {},
   "source": [
    "## 3.Ek Görev"
   ]
  },
  {
   "cell_type": "code",
   "execution_count": 192,
   "id": "e0179614-1035-440e-901c-b90228223b01",
   "metadata": {},
   "outputs": [
    {
     "data": {
      "image/png": "[encoded data removed]",
      "text/plain": [
       "<Figure size 1200x400 with 3 Axes>"
      ]
     },
     "metadata": {},
     "output_type": "display_data"
    }
   ],
   "source": [
    "import matplotlib.pyplot as plt\n",
    "\n",
    "dersler = [\"Matematik\", \"Fizik\", \"Kimya\"]  \n",
    "\n",
    "plt.figure(figsize=(12,4))  # Grafik boyutu\n",
    "for i, ders in enumerate(dersler, 1):\n",
    "    plt.subplot(1, 3, i)\n",
    "    plt.hist(dataframe[ders], bins=20, alpha=0.5, color='red')\n",
    "    plt.title(ders)\n",
    "    plt.xlabel(\"Not Aralığı\")\n",
    "    plt.ylabel(\"Öğrenci Sayısı\")\n",
    "plt.tight_layout()\n",
    "plt.show()"
   ]
  },
  {
   "cell_type": "code",
   "execution_count": 194,
   "id": "627f0bbc-839f-40d6-bf92-9999dfe45343",
   "metadata": {},
   "outputs": [
    {
     "data": {
      "image/png": "[encoded data removed]",
      "text/plain": [
       "<Figure size 640x480 with 1 Axes>"
      ]
     },
     "metadata": {},
     "output_type": "display_data"
    }
   ],
   "source": [
    "import matplotlib.pyplot as plt\n",
    "\n",
    "dersler = [\"Matematik\", \"Fizik\", \"Kimya\"]\n",
    "ortalama = [matOrt, fizOrt, kimOrt]\n",
    "\n",
    "plt.bar(dersler, ortalama, color=\"pink\", edgecolor=\"purple\")\n",
    "plt.title(\"Derslerin Ortalama Notları\")\n",
    "plt.xlabel(\"Dersler\")\n",
    "plt.ylabel(\"Ortalama Not\")\n",
    "plt.show()\n",
    "\n"
   ]
  },
  {
   "cell_type": "code",
   "execution_count": null,
   "id": "ac7ceff4-59d6-47f4-b538-9c080453a0b2",
   "metadata": {},
   "outputs": [],
   "source": []
  },
  {
   "cell_type": "code",
   "execution_count": null,
   "id": "e6b2dd18-8a96-45ee-849d-6ccc0b67a33b",
   "metadata": {},
   "outputs": [],
   "source": []
  }
 ],
 "metadata": {
  "kernelspec": {
   "display_name": "Python [conda env:base] *",
   "language": "python",
   "name": "conda-base-py"
  },
  "language_info": {
   "codemirror_mode": {
    "name": "ipython",
    "version": 3
   },
   "file_extension": ".py",
   "mimetype": "text/x-python",
   "name": "python",
   "nbconvert_exporter": "python",
   "pygments_lexer": "ipython3",
   "version": "3.12.4"
  }
 },
 "nbformat": 4,
 "nbformat_minor": 5
}
